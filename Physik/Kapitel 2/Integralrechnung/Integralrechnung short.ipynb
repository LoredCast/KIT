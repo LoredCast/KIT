{
 "cells": [
  {
   "cell_type": "markdown",
   "id": "3715d656",
   "metadata": {},
   "source": [
    "# Integralrechnung"
   ]
  },
  {
   "cell_type": "markdown",
   "id": "fe3eefe5",
   "metadata": {},
   "source": [
    "*Notebook erstellt am 29.09.2022 von C. Rockstuhl, überarbeitet von Y. Augenstein*\n",
    "\n",
    "*Abbildungen in diesem Notebook wurden dem Script \"Computational Physics\" von Prof. T. Pertsch (Uni-Jena) entnommen*"
   ]
  },
  {
   "cell_type": "markdown",
   "id": "953d0964",
   "metadata": {},
   "source": [
    "In diesem Notebook werden wir einige Details zur Integralrechnung besprechen. Wir werden dieses Notebook in zwei Abschnitte unterteilen und einmal diskutieren, wie wir symbolisch ausgewählte Integrale lösen können, und zum anderen werden wir diskutieren, wie wir diese numerisch evaluieren können.  "
   ]
  },
  {
   "cell_type": "markdown",
   "id": "e645a4fa",
   "metadata": {},
   "source": [
    "## Symbolisches Lösen von Integralen "
   ]
  },
  {
   "cell_type": "markdown",
   "id": "43ee9330",
   "metadata": {},
   "source": [
    "Wie bereits in früheren Notebooks, in denen wir symbolisch differenziert haben, benutzen wir hier wieder die Bibliothek SymPy. Mehr Informationen und eine ausführliche Dokumentation finden Sie hier: [https://www.sympy.org](https://www.sympy.org/en/index.html).\n",
    "\n",
    "Hierfür importieren wir wieder das Modul `sympy` sowie einige symbolische Variablen, die wir noch benötigen werden."
   ]
  },
  {
   "cell_type": "code",
   "execution_count": 1,
   "id": "6a5a54d3",
   "metadata": {},
   "outputs": [],
   "source": [
    "from IPython.display import display  # zum Anzeigen von Gleichungen\n",
    "import sympy\n",
    "from sympy.abc import a, b, x, y\n",
    "from sympy import Integral, Eq, S  # dient nur der Anzeige von Integralen und Gleichungen"
   ]
  },
  {
   "cell_type": "markdown",
   "id": "1892783f",
   "metadata": {},
   "source": [
    "Nun definieren wir wieder eine einfache Funktion. Wir nehmen hier ein Beispiel aus der Vorlesung."
   ]
  },
  {
   "cell_type": "code",
   "execution_count": 2,
   "id": "002d24a9",
   "metadata": {},
   "outputs": [
    {
     "data": {
      "text/latex": [
       "$\\displaystyle f = 3 x^{3} - 2 x$"
      ],
      "text/plain": [
       "Eq(f, 3*x**3 - 2*x)"
      ]
     },
     "execution_count": 2,
     "metadata": {},
     "output_type": "execute_result"
    }
   ],
   "source": [
    "f = 3 * x**3 - 2 * x\n",
    "\n",
    "Eq(S(\"f\"), f)   # Dient nur der Ausgabe. Die Logik der Ausgabe ist, dass die linke und die rechte Seite der \n",
    "                # Gleichung spezifiziert werden und man sich diese Anzeigen läst. \n",
    "                # Die Funktion S 'sympifiziert' einmal den vorhandenen Ausdruck. In unserem Fall einfach f.\n",
    "        "
   ]
  },
  {
   "cell_type": "markdown",
   "id": "0d0cb6f7",
   "metadata": {},
   "source": [
    "Das Erste, was wie wieder machen möchten, ist die Evaluation der Funktion an einem bestimmten Wert für $x$. Hierfür können wie den Befehl `f.subs` verwenden, der einen entsprechenden Wert für $x$ substituiert in den Ausdruck der Funktion $f(x)$."
   ]
  },
  {
   "cell_type": "code",
   "execution_count": 3,
   "id": "e3002298",
   "metadata": {},
   "outputs": [
    {
     "name": "stdout",
     "output_type": "stream",
     "text": [
      "3(2)^3 - 2*2 = 20\n"
     ]
    }
   ],
   "source": [
    "z = f.subs(x, 2)\n",
    "print(f\"3(2)^3 - 2*2 = {z}\")  # Und wir geben uns das Ergebnis aus."
   ]
  },
  {
   "cell_type": "markdown",
   "id": "b7e51b28",
   "metadata": {},
   "source": [
    "Um jetzt unsere Funktion `f` bezüglich `x` zu integrieren, verwenden wir `integrate()`."
   ]
  },
  {
   "cell_type": "code",
   "execution_count": 4,
   "id": "5b4e05df",
   "metadata": {},
   "outputs": [
    {
     "data": {
      "text/latex": [
       "$\\displaystyle \\int \\left(3 x^{3} - 2 x\\right)\\, dx = \\frac{3 x^{4}}{4} - x^{2}$"
      ],
      "text/plain": [
       "Eq(Integral(3*x**3 - 2*x, x), 3*x**4/4 - x**2)"
      ]
     },
     "execution_count": 4,
     "metadata": {},
     "output_type": "execute_result"
    }
   ],
   "source": [
    "intf = f.integrate(x)\n",
    "\n",
    "Eq(Integral(f, x), intf)    # Hier dient die Funktion Integral zur Visulisierung des entsprechenden Integrals.\n",
    "                            # Und auch hier werden wieder die linke und die rechte Seite der Gleichung \n",
    "                            # spezifiziert."
   ]
  },
  {
   "cell_type": "markdown",
   "id": "7b9e49c2",
   "metadata": {},
   "source": [
    "Alternativ kann man für diesen Zweck auch den etwas allgemeineren Funktionsaufruf verwenden."
   ]
  },
  {
   "cell_type": "code",
   "execution_count": 5,
   "id": "cd3df46b",
   "metadata": {},
   "outputs": [
    {
     "data": {
      "text/latex": [
       "$\\displaystyle \\int \\left(3 x^{3} - 2 x\\right)\\, dx = \\frac{3 x^{4}}{4} - x^{2}$"
      ],
      "text/plain": [
       "Eq(Integral(3*x**3 - 2*x, x), 3*x**4/4 - x**2)"
      ]
     },
     "execution_count": 5,
     "metadata": {},
     "output_type": "execute_result"
    }
   ],
   "source": [
    "intf = sympy.integrate(f, x)\n",
    "\n",
    "Eq(Integral(f, x), intf)"
   ]
  },
  {
   "cell_type": "markdown",
   "id": "bc59fd69",
   "metadata": {},
   "source": [
    "Die obigen Beispiele sind unbestimmte Integrale von $f(x)$. Wir können aber auch bestimmte Integrale mit derselben `integrate()`-Funktion auswerten. Wir müssen hierfür lediglich der Funktion die entsprechenden Integrationsgrenzen als Argumente mit übergeben."
   ]
  },
  {
   "cell_type": "code",
   "execution_count": 6,
   "id": "6a3c5813",
   "metadata": {},
   "outputs": [
    {
     "data": {
      "text/latex": [
       "$\\displaystyle \\int\\limits_{0}^{3} \\left(3 x^{3} - 2 x\\right)\\, dx = \\frac{207}{4}$"
      ],
      "text/plain": [
       "Eq(Integral(3*x**3 - 2*x, (x, 0, 3)), 207/4)"
      ]
     },
     "execution_count": 6,
     "metadata": {},
     "output_type": "execute_result"
    }
   ],
   "source": [
    "intf = sympy.integrate(f, (x, 0, 3))  # alternativ auch hier wieder: f.integrate((x, 0, 3))\n",
    "\n",
    "Eq(Integral(f, (x, 0, 3)), intf)"
   ]
  },
  {
   "cell_type": "markdown",
   "id": "c711096f",
   "metadata": {},
   "source": [
    "Beachten Sie bitte, dass Sie an dieser Stelle immer noch rein symbolisch rechnen. Wenn Sie das gewünschte Ergebnis in einer numerisch besser verarbeitbaren Form benötigen, müssen Sie es z.B. in eine Gleitkommazahl (`float`) umwandeln. Mehr Informationen zu numerischen Typen finden Sie hier: https://docs.python.org/3/library/stdtypes.html#numeric-types-int-float-complex"
   ]
  },
  {
   "cell_type": "code",
   "execution_count": 7,
   "id": "28ba293d",
   "metadata": {},
   "outputs": [
    {
     "data": {
      "text/plain": [
       "51.75"
      ]
     },
     "execution_count": 7,
     "metadata": {},
     "output_type": "execute_result"
    }
   ],
   "source": [
    "float(intf)"
   ]
  },
  {
   "cell_type": "markdown",
   "id": "dd2588b8",
   "metadata": {},
   "source": [
    "Ebenso können Sie Symbole als Integrationsgrenzen verwenden, um z.B. einfach nur zwischen $a$ und $b$ zu integrieren."
   ]
  },
  {
   "cell_type": "code",
   "execution_count": 8,
   "id": "9a020149",
   "metadata": {},
   "outputs": [
    {
     "data": {
      "text/latex": [
       "$\\displaystyle \\int\\limits_{a}^{b} \\left(3 x^{3} - 2 x\\right)\\, dx = - \\frac{3 a^{4}}{4} + a^{2} + \\frac{3 b^{4}}{4} - b^{2}$"
      ],
      "text/plain": [
       "Eq(Integral(3*x**3 - 2*x, (x, a, b)), -3*a**4/4 + a**2 + 3*b**4/4 - b**2)"
      ]
     },
     "execution_count": 8,
     "metadata": {},
     "output_type": "execute_result"
    }
   ],
   "source": [
    "intf = f.integrate((x, a, b))\n",
    "\n",
    "Eq(Integral(f, (x, a, b)), intf)"
   ]
  },
  {
   "cell_type": "markdown",
   "id": "1a125578",
   "metadata": {},
   "source": [
    "Wir können unsere Funktionen auch komplizierter machen und sie, zum Beispiel, von zwei Variablen abhängen lassen. In unserem Fall wäre das $x$ und $y$ und die Funktion lautet:\n",
    "$$\n",
    "g(x,y)=x \\sin (xy). \n",
    "$$"
   ]
  },
  {
   "cell_type": "code",
   "execution_count": 9,
   "id": "5d6e79e7",
   "metadata": {},
   "outputs": [
    {
     "data": {
      "text/latex": [
       "$\\displaystyle g = x \\sin{\\left(x y \\right)}$"
      ],
      "text/plain": [
       "Eq(g, x*sin(x*y))"
      ]
     },
     "execution_count": 9,
     "metadata": {},
     "output_type": "execute_result"
    }
   ],
   "source": [
    "g = x * sympy.sin(x * y)\n",
    "\n",
    "Eq(S(\"g\"), g)"
   ]
  },
  {
   "cell_type": "code",
   "execution_count": 10,
   "id": "43b34680",
   "metadata": {},
   "outputs": [
    {
     "data": {
      "text/latex": [
       "$\\displaystyle \\int x \\sin{\\left(x y \\right)}\\, dx = \\begin{cases} - \\frac{x \\cos{\\left(x y \\right)}}{y} + \\frac{\\sin{\\left(x y \\right)}}{y^{2}} & \\text{for}\\: y \\neq 0 \\\\0 & \\text{otherwise} \\end{cases}$"
      ],
      "text/plain": [
       "Eq(Integral(x*sin(x*y), x), Piecewise((-x*cos(x*y)/y + sin(x*y)/y**2, Ne(y, 0)), (0, True)))"
      ]
     },
     "execution_count": 10,
     "metadata": {},
     "output_type": "execute_result"
    }
   ],
   "source": [
    "intg = g.integrate(x)\n",
    "\n",
    "Eq(Integral(g, x), intg)"
   ]
  },
  {
   "cell_type": "markdown",
   "id": "e4995663",
   "metadata": {},
   "source": [
    "Beachten Sie, dass das Ergebnis dieses Integrals davon abhängt, ob $y$ Null ist oder eben gerade verschieden von Null. Wir können auch von Anfang an spezifizieren und bei der erstmaligen Definition festlegen, dass unsere Variablen ungleich Null sind."
   ]
  },
  {
   "cell_type": "code",
   "execution_count": 11,
   "id": "4b5bdc47",
   "metadata": {},
   "outputs": [
    {
     "data": {
      "text/latex": [
       "$\\displaystyle g = x \\sin{\\left(x y \\right)}$"
      ],
      "text/plain": [
       "Eq(g, x*sin(x*y))"
      ]
     },
     "execution_count": 11,
     "metadata": {},
     "output_type": "execute_result"
    }
   ],
   "source": [
    "x = sympy.Symbol(\"x\", nonzero=True)\n",
    "y = sympy.Symbol(\"y\", nonzero=True)\n",
    "\n",
    "g = x * sympy.sin(x * y)\n",
    "\n",
    "Eq(S(\"g\"), g)"
   ]
  },
  {
   "cell_type": "markdown",
   "id": "e94febf3",
   "metadata": {},
   "source": [
    "Wenn wir nun wieder wie oben über $x$ integrieren, erhalten wir nur noch ein Ergebnis."
   ]
  },
  {
   "cell_type": "code",
   "execution_count": 12,
   "id": "3aad1d07",
   "metadata": {},
   "outputs": [
    {
     "data": {
      "text/latex": [
       "$\\displaystyle \\int x \\sin{\\left(x y \\right)}\\, dx = - \\frac{x \\cos{\\left(x y \\right)}}{y} + \\frac{\\sin{\\left(x y \\right)}}{y^{2}}$"
      ],
      "text/plain": [
       "Eq(Integral(x*sin(x*y), x), -x*cos(x*y)/y + sin(x*y)/y**2)"
      ]
     },
     "execution_count": 12,
     "metadata": {},
     "output_type": "execute_result"
    }
   ],
   "source": [
    "intgx = g.integrate(x)\n",
    "\n",
    "Eq(Integral(g, x), intgx)"
   ]
  },
  {
   "cell_type": "markdown",
   "id": "1b28173a",
   "metadata": {},
   "source": [
    "Wir können selbstverständlich auch über die andere Koordinate ($y$) integrieren."
   ]
  },
  {
   "cell_type": "code",
   "execution_count": 13,
   "id": "6feaf6df",
   "metadata": {},
   "outputs": [
    {
     "data": {
      "text/latex": [
       "$\\displaystyle \\int x \\sin{\\left(x y \\right)}\\, dy = - \\cos{\\left(x y \\right)}$"
      ],
      "text/plain": [
       "Eq(Integral(x*sin(x*y), y), -cos(x*y))"
      ]
     },
     "execution_count": 13,
     "metadata": {},
     "output_type": "execute_result"
    }
   ],
   "source": [
    "intgy = g.integrate(y)\n",
    "\n",
    "Eq(Integral(g, y), intgy)"
   ]
  },
  {
   "cell_type": "markdown",
   "id": "786f11ff",
   "metadata": {},
   "source": [
    "Um einen etwas allgemeineren Zugang zu bekommen, können wir im Folgenden auch die eigentliche Funktionsdefinition in eine Python Funktion auslagern und dann im Folgenden nur mit einem allgemeinen Beispiel rechnen. Dafür definieren wir uns als erstes eine passende Funktion. "
   ]
  },
  {
   "cell_type": "code",
   "execution_count": 14,
   "id": "2071f226",
   "metadata": {},
   "outputs": [],
   "source": [
    "def f(x):\n",
    "    return 3 * x**3 - 2 * x"
   ]
  },
  {
   "cell_type": "markdown",
   "id": "70057b97",
   "metadata": {},
   "source": [
    "Und dann können wir alle Befehle, die wir oben verwendet haben, ganz allgemein auf die Funktion $f$ anwenden und ganz normal damit rechnen. "
   ]
  },
  {
   "cell_type": "code",
   "execution_count": 15,
   "id": "afa45dfe",
   "metadata": {},
   "outputs": [
    {
     "data": {
      "text/latex": [
       "$\\displaystyle \\int \\left(3 x^{3} - 2 x\\right)\\, dx = \\frac{3 x^{4}}{4} - x^{2}$"
      ],
      "text/plain": [
       "Eq(Integral(3*x**3 - 2*x, x), 3*x**4/4 - x**2)"
      ]
     },
     "execution_count": 15,
     "metadata": {},
     "output_type": "execute_result"
    }
   ],
   "source": [
    "intf = f(x).integrate(x)\n",
    "\n",
    "Eq(Integral(f(x), x), intf)"
   ]
  },
  {
   "cell_type": "code",
   "execution_count": 16,
   "id": "1064483a",
   "metadata": {},
   "outputs": [
    {
     "data": {
      "text/latex": [
       "$\\displaystyle \\int\\limits_{a}^{b} \\left(3 x^{3} - 2 x\\right)\\, dx = - \\frac{3 a^{4}}{4} + a^{2} + \\frac{3 b^{4}}{4} - b^{2}$"
      ],
      "text/plain": [
       "Eq(Integral(3*x**3 - 2*x, (x, a, b)), -3*a**4/4 + a**2 + 3*b**4/4 - b**2)"
      ]
     },
     "execution_count": 16,
     "metadata": {},
     "output_type": "execute_result"
    }
   ],
   "source": [
    "intf = sympy.integrate(f(x), (x, a, b))\n",
    "\n",
    "Eq(Integral(f(x), (x, a, b)), intf)"
   ]
  },
  {
   "cell_type": "markdown",
   "id": "4fee4b9a",
   "metadata": {},
   "source": [
    "Wir können genauso gut Funktionen mit mehreren Variablen verwenden und dann anschließend doppelte Integrale durchführen.\n",
    "\n",
    "Hierfür definieren wir zunächst eine Funktion, die von $x$ und $y$ abhängt."
   ]
  },
  {
   "cell_type": "code",
   "execution_count": 17,
   "id": "e3329e05",
   "metadata": {},
   "outputs": [],
   "source": [
    "def g(x, y):\n",
    "    return x * sympy.sin(x * y)"
   ]
  },
  {
   "cell_type": "markdown",
   "id": "9bdd5ead",
   "metadata": {},
   "source": [
    "Das unbestimmt Integral können wir nun auswerten, indem wir explizit zwei Integrale ausführen."
   ]
  },
  {
   "cell_type": "code",
   "execution_count": 18,
   "id": "02a3d3f9",
   "metadata": {},
   "outputs": [
    {
     "data": {
      "text/latex": [
       "$\\displaystyle \\iint x \\sin{\\left(x y \\right)}\\, dy\\, dx = - \\frac{\\sin{\\left(x y \\right)}}{y}$"
      ],
      "text/plain": [
       "Eq(Integral(x*sin(x*y), y, x), -sin(x*y)/y)"
      ]
     },
     "execution_count": 18,
     "metadata": {},
     "output_type": "execute_result"
    }
   ],
   "source": [
    "intg = sympy.integrate(sympy.integrate(g(x, y), y), x)\n",
    "\n",
    "Eq(Integral(Integral(g(x, y), y), x), intg)"
   ]
  },
  {
   "cell_type": "markdown",
   "id": "52cb3578",
   "metadata": {},
   "source": [
    "Oder alternativ können wir auch in einem Aufruf von `integrate()` mehrere Variablen angeben."
   ]
  },
  {
   "cell_type": "code",
   "execution_count": 19,
   "id": "82ee9791",
   "metadata": {},
   "outputs": [
    {
     "data": {
      "text/latex": [
       "$\\displaystyle \\iint x \\sin{\\left(x y \\right)}\\, dy\\, dx = - \\frac{\\sin{\\left(x y \\right)}}{y}$"
      ],
      "text/plain": [
       "Eq(Integral(x*sin(x*y), y, x), -sin(x*y)/y)"
      ]
     },
     "execution_count": 19,
     "metadata": {},
     "output_type": "execute_result"
    }
   ],
   "source": [
    "intg = sympy.integrate(g(x, y), y, x)\n",
    "\n",
    "Eq(Integral(g(x, y), y, x), intg)"
   ]
  },
  {
   "cell_type": "markdown",
   "id": "08730213",
   "metadata": {},
   "source": [
    "Bestimmte Integrale können wir ganz analog auswerten."
   ]
  },
  {
   "cell_type": "code",
   "execution_count": 20,
   "id": "60745a3e",
   "metadata": {},
   "outputs": [
    {
     "data": {
      "text/latex": [
       "$\\displaystyle \\int\\limits_{-2}^{-1}\\int\\limits_{1}^{3} x \\sin{\\left(x y \\right)}\\, dy\\, dx = - \\sin{\\left(1 \\right)} + \\frac{\\sin{\\left(3 \\right)}}{3} - \\frac{\\sin{\\left(6 \\right)}}{3} + \\sin{\\left(2 \\right)} = 0.20800494410405$"
      ],
      "text/plain": [
       "Eq(Eq(Integral(x*sin(x*y), (y, 1, 3), (x, -2, -1)), -sin(1) + sin(3)/3 - sin(6)/3 + sin(2)), 0.20800494410405)"
      ]
     },
     "execution_count": 20,
     "metadata": {},
     "output_type": "execute_result"
    }
   ],
   "source": [
    "intg = sympy.integrate(g(x, y), (y, 1, 3), (x, -2, -1))\n",
    "\n",
    "Eq(Eq(Integral(g(x, y), (y, 1, 3), (x, -2, -1)), intg), float(intg), evaluate=False)\n",
    "                                    # Beachten Sie bitte das letzte Argument.\n",
    "                                    # Eq in Sympy wird verwendet, um zu prüfen, \n",
    "                                    # ob zwei Ausdrücke mathematisch gleich sind. \n",
    "                                    # Hier würde die Auswertung ein 'false ergeben', \n",
    "                                    # da der analyische Ausdrucke natürlich niemals gleich \n",
    "                                    # sein wird zu dem numerischen. Das würde uns hier\n",
    "                                    # aber nicht interessieren.\n",
    "                                    # Sie können die Auswertung mit evaluate = falsch \n",
    "                                    # verhindern. \n",
    "    \n",
    "    \n",
    "    "
   ]
  },
  {
   "cell_type": "markdown",
   "id": "baa6c35b",
   "metadata": {},
   "source": [
    "Schauen Sie sich bitte einmal die Dokumentation von SymPy an. Dort werden Sie sehen, dass es noch andere Befehle gibt zur Evaluation symbolischer Ausdrücke. Zum Beispiel mit der `N()`-Funktion erhalten Sie ein ähnliches Ergebnis. Hier können Sie auch noch die Anzahl der Stellen angeben, mit denen der Ausdruck numerisch evaluiert werden soll. Wenn Sie kein Argument angeben, erfolgt die Evaluation auf 15 Nachkommastallen, was gerade double-precision entspricht."
   ]
  },
  {
   "cell_type": "code",
   "execution_count": 21,
   "id": "d976e8b2",
   "metadata": {},
   "outputs": [
    {
     "name": "stdout",
     "output_type": "stream",
     "text": [
      "0.20800494410404955371428429408811418957133462017301\n",
      "0.208\n"
     ]
    }
   ],
   "source": [
    "print(sympy.N(intg, 50))\n",
    "print(sympy.N(intg, 3))"
   ]
  },
  {
   "cell_type": "markdown",
   "id": "23e36a54",
   "metadata": {},
   "source": [
    "Abschliessend können wir hier noch das letzte Beispiel aus der Vorlesung am Computer lösen. Hier lautete das zu lösende Integral\n",
    "$$\n",
    "\\int_{\\sqrt{\\pi}}^{2\\sqrt{\\pi}}2x\\cos x^2 \\mathrm{d}x\n",
    "$$\n",
    "Wir definieren uns das ganz einfach im Folgenden als unsere Funktion und evaluieren dann das bestimmte Integral."
   ]
  },
  {
   "cell_type": "code",
   "execution_count": 22,
   "id": "9c47b185",
   "metadata": {},
   "outputs": [],
   "source": [
    "def f(x):\n",
    "    return 2 * x * sympy.cos(x**2)"
   ]
  },
  {
   "cell_type": "code",
   "execution_count": 23,
   "id": "9cdd98c7",
   "metadata": {},
   "outputs": [
    {
     "data": {
      "text/latex": [
       "$\\displaystyle \\int 2 x \\cos{\\left(x^{2} \\right)}\\, dx = \\sin{\\left(x^{2} \\right)}$"
      ],
      "text/plain": [
       "Eq(Integral(2*x*cos(x**2), x), sin(x**2))"
      ]
     },
     "execution_count": 23,
     "metadata": {},
     "output_type": "execute_result"
    }
   ],
   "source": [
    "intf = sympy.integrate(f(x))\n",
    "\n",
    "Eq(Integral(f(x), x), intf)"
   ]
  },
  {
   "cell_type": "code",
   "execution_count": 24,
   "id": "d391716a",
   "metadata": {},
   "outputs": [
    {
     "data": {
      "text/latex": [
       "$\\displaystyle \\int\\limits_{\\sqrt{\\pi}}^{2 \\sqrt{\\pi}} 2 x \\cos{\\left(x^{2} \\right)}\\, dx = 0$"
      ],
      "text/plain": [
       "Eq(Integral(2*x*cos(x**2), (x, sqrt(pi), 2*sqrt(pi))), 0)"
      ]
     },
     "execution_count": 24,
     "metadata": {},
     "output_type": "execute_result"
    }
   ],
   "source": [
    "intf = sympy.integrate(f(x), (x, sympy.sqrt(sympy.pi), 2 * sympy.sqrt(sympy.pi)))\n",
    "\n",
    "Eq(Integral(f(x), (x, sympy.sqrt(sympy.pi), 2 * sympy.sqrt(sympy.pi))), intf, evaluate=False)"
   ]
  },
  {
   "cell_type": "markdown",
   "id": "f3abd670",
   "metadata": {},
   "source": [
    "## Numerisches Lösen von Integralen "
   ]
  },
  {
   "cell_type": "markdown",
   "id": "90ed0747",
   "metadata": {},
   "source": [
    "Viele der relevanten Integrale in der Vorlesung werden wir analytisch lösen. Praktisch ist es aber so, dass dies in (ferner) Zukunft nicht immer möglich sein wird. Daher würden wir im Folgenden auch einige Grundzüge der numerischen Integration besprechen. \n",
    "\n",
    "Als Erinnerung, das Integral allgemein ist definiert als die Fläche unter einer Funktion.\n",
    "\n",
    "Hierfür importieren wir zunächst wieder `NumPy` (unsere go-to Bibliothek für numerisches Rechnen in Python) sowie `matplotlib` zum Visualisieren der Ergebnisse."
   ]
  },
  {
   "cell_type": "code",
   "execution_count": 25,
   "id": "1b222e20",
   "metadata": {},
   "outputs": [],
   "source": [
    "import numpy as np\n",
    "import matplotlib.pyplot as plt"
   ]
  },
  {
   "cell_type": "markdown",
   "id": "5336112a",
   "metadata": {},
   "source": [
    "Nun geben wir das `x`-Achsenintervall an, auf dem wir unsere Funktion auswerten möchten und berechnen die Funktionswerte an den entsprechenden Punkten. Beachten Sie, dass wir hier unsere Funktion nicht explizit definieren, sondern einfach direkt auswerten. Im Prinzip könnte man natürlich auch `def f(x): ...` verwenden, ist hier aber nicht zwingend notwendig."
   ]
  },
  {
   "cell_type": "code",
   "execution_count": 26,
   "id": "9643d256",
   "metadata": {},
   "outputs": [],
   "source": [
    "x = np.linspace(-2.5, 2.5, 100)  # 100 Punkte zwischen -2.5 und 2.5\n",
    "f = np.exp(-(x**2))  # unsere Funktionswerte"
   ]
  },
  {
   "cell_type": "markdown",
   "id": "3cb9e67b",
   "metadata": {},
   "source": [
    "Und schlussendlich visualisieren wir das Ganze."
   ]
  },
  {
   "cell_type": "code",
   "execution_count": 27,
   "id": "910dfa7d",
   "metadata": {},
   "outputs": [
    {
     "data": {
      "image/png": "[encoded data removed]",
      "text/plain": [
       "<Figure size 288x216 with 1 Axes>"
      ]
     },
     "metadata": {
      "needs_background": "light"
     },
     "output_type": "display_data"
    }
   ],
   "source": [
    "fig, ax = plt.subplots(1, 1, figsize=(4, 3))  # wir initialisieren die Grafik\n",
    "ax.plot(x, f, color=\"black\")  # x und f sind gleich große Arrays, die Punkt für Punkt geplottet werden\n",
    "ax.fill_between(x, f, hatch=\"/\")  # die Fläche unter der Funktion\n",
    "ax.set_xlim(x[0], x[-1])  # x-Achsen limits\n",
    "ax.set_ylim(0, None)  #  y-Achsen limits\n",
    "ax.set_xlabel(\"x\")  # x-Achsenbeschriftung\n",
    "ax.set_ylabel(\"f(x)\")  # x-Achsenbeschriftung\n",
    "plt.show()  # und nun zeigen wir das Ganze an"
   ]
  },
  {
   "cell_type": "markdown",
   "id": "d1395274",
   "metadata": {},
   "source": [
    "Numerisch werden wir keine unbestimmten Integrale lösen können sondern nur bestimmte. Daher betrachten wir im Folgenden numerische Integrationsverfahren zur Berechnung des bestimmten Integrals einer Funktion $f(x)$ auf einem Intervall $[a,b]$. \n",
    "$$\n",
    "I=\\int_a^b f(x)\\mathrm{d}x\n",
    "$$\n",
    "Hierfür definieren wir uns zunächst ein beliebiges Integrationsinterval."
   ]
  },
  {
   "cell_type": "code",
   "execution_count": 28,
   "id": "8654e823",
   "metadata": {},
   "outputs": [],
   "source": [
    "a, b = -1.2, 0.7"
   ]
  },
  {
   "cell_type": "markdown",
   "id": "717406f2",
   "metadata": {},
   "source": [
    "Und dann sieht das Ganze folgerndermaßen aus."
   ]
  },
  {
   "cell_type": "code",
   "execution_count": 29,
   "id": "f1ce6795",
   "metadata": {},
   "outputs": [
    {
     "data": {
      "image/png": "[encoded data removed]",
      "text/plain": [
       "<Figure size 288x216 with 1 Axes>"
      ]
     },
     "metadata": {
      "needs_background": "light"
     },
     "output_type": "display_data"
    }
   ],
   "source": [
    "fig, ax = plt.subplots(1, 1, figsize=(4, 3))\n",
    "ax.plot(x, f, color=\"black\")\n",
    "int_indices = (a < x) & (x < b)  # zum \"Herausfischen\" der Indizes, welche innerhalb des Intervalls liegen\n",
    "ax.fill_between(x[int_indices], f[int_indices], hatch=\"/\")\n",
    "ax.set_xlim(x[0], x[-1])\n",
    "ax.set_ylim(0, None)\n",
    "ax.set_xlabel(\"x\")\n",
    "ax.set_ylabel(\"f(x)\")\n",
    "plt.show()"
   ]
  },
  {
   "cell_type": "markdown",
   "id": "ff4b65d4",
   "metadata": {},
   "source": [
    "Wir werden am Anfang sehen, wie wir die Integration solcher Integrale explizit durchführen können. Praktisch wird es aber so sein, dass Sie implementierte Routinen verwenden werden, die in Python durch geeignete Bibliotheken zur Verfügung gestellt werden. Nichtsdestotrotz ist es überaus hilfreich zu verstehen, wie diese Routinen funktionieren, um sie sinnvoll anzuwenden.\n",
    "\n",
    "Als Zweites sei gesagt, dass die Grundaufgabe immer darin besteht, mit möglichst wenig Rechenaufwand das Integral möglichst präzise zu berechnen. Der Rechenaufwand wird hier verstanden als die Anzahl der Funktionsevaluationen. Für viele der hier besprochenen Funktionen ist der numerische Aufwand nicht besonderns groß und nominell können Sie problemlos sehr viele Funktionsevaluationen durchführen in sehr kurzer Zeit. Dies wird aber in Zukunft nicht immer der Fall sein. Daher ist eine effektive Art der Berechnung besimmter Integrale notwendig."
   ]
  },
  {
   "cell_type": "markdown",
   "id": "0506b56d",
   "metadata": {},
   "source": [
    "Ausgangspunkt aller weiterer Betrachtungen ist die Diskretisierung der $x$-Koordinate in $N$ Teilintervalle durch Definition von $N+1$ Stützstellen. Jedes dieser Teilintervalle geht dann von $x_i$ bis $x_{i+1}$ und die Intervallbreite ist gerade definiert als $h = x_{i+1}-x_i$. Dabei ist $x_0 =a$ und $x_N =b$. Jede Stützstelle ist dann definiert als $x_i=x_0+i\\cdot h$. \n",
    "\n",
    "![Diskretisierung des Integrationsintervals](Integraldiskretisierung.png \"Diskretisierung des Integrationsintervals\")\n",
    "\n",
    "*Diese konstante Diskretisierung vereinfacht unsere Betrachtungen im Folgenden. In der Realität werden Sie tendenziell eher eine adaptive Auflösung verwenden. Bereiche in denen die Funktion sich rasch ändert werden Sie dann feiner diskretisieren. Bereiche in denen die Funktion sich eher wenig ändert werden Sie dann gröber diskretisieren.*\n",
    "\n",
    "Das von uns zu berechnende Integral, also die Fläche unter der Kurve, ist dann also zerlegt in die Summe der Flächen in jedem einzelnen Teilintegral\n",
    "$$\n",
    "I=\\sum_{i=0}^{N-1}\\int_{x_i}^{x_{i+1}} f(x)\\mathrm{d}x\n",
    "$$\n",
    "\n",
    "Die Aufgabe besteht nun darin, jedes einzelne Teilintegral möglichst präzise zu bestimmen."
   ]
  },
  {
   "cell_type": "markdown",
   "id": "25fb0e5f",
   "metadata": {},
   "source": [
    "### Vorbereitung"
   ]
  },
  {
   "cell_type": "markdown",
   "id": "b5e70539",
   "metadata": {},
   "source": [
    "Im Folgenden werden wir zwei Funktionen betrachten. Zuerst betrachten wir die einfache Funktion\n",
    "$$\n",
    "f(x)=x \\quad .\n",
    "$$\n",
    "Das erleichtert uns den Vergleich zum exakten Ergebnis und zur einfachen Visualisierung des Einflusses der Diskretisierung.\n",
    "\n",
    "Desweiteren betrachten wir noch das bestimmte Integral\n",
    "$$\n",
    "I=\\int_{\\sqrt{\\pi}}^{2\\sqrt{\\pi}}2x\\cos x^2\\mathrm{d}x \\quad ,\n",
    "$$\n",
    "Aus der symbolischen Rechnung weiter oben wissen wir, dass dieses bestimmte Integral $0$ ergibt."
   ]
  },
  {
   "cell_type": "markdown",
   "id": "56e437d0",
   "metadata": {},
   "source": [
    "Zunächst definieren wir uns also diese beiden Funktionen."
   ]
  },
  {
   "cell_type": "code",
   "execution_count": 30,
   "id": "195e83f5",
   "metadata": {},
   "outputs": [],
   "source": [
    "def f(x):\n",
    "    return x\n",
    "\n",
    "def g(x):\n",
    "    return 2 * x * np.cos(x ** 2)"
   ]
  },
  {
   "cell_type": "markdown",
   "id": "e59da750",
   "metadata": {},
   "source": [
    "Dann definieren wir uns die Intervalle, auf denen wir diese beiden Funktionen auswerten möchten sowie die Diskretisierung des Raumes, welche wir für beide Funktionen unterschiedlich wählen werden."
   ]
  },
  {
   "cell_type": "code",
   "execution_count": 31,
   "id": "812a5c78",
   "metadata": {},
   "outputs": [],
   "source": [
    "# Parameter für f\n",
    "fa = 0\n",
    "fb = 2\n",
    "fN = 8  # Anzahl an Stützstellen für f\n",
    "fh = (fb - fa) / fN\n",
    "\n",
    "# Parameter für g\n",
    "ga = np.sqrt(np.pi)\n",
    "gb = 2 * np.sqrt(np.pi)\n",
    "gN = 50  # Anzahl an Stützstellen für f\n",
    "gh = (gb - ga) / gN"
   ]
  },
  {
   "cell_type": "markdown",
   "id": "64e51b91",
   "metadata": {},
   "source": [
    "Bevor wir nun zur Integration schreiten, werden wir beide Funktionen noch visualisieren. Hierfür wählen wir eine sehr feine Diskretisierung, um eine möglichst glatte Darstellung der Funktion zu erreichen."
   ]
  },
  {
   "cell_type": "code",
   "execution_count": 32,
   "id": "0eedae50",
   "metadata": {},
   "outputs": [
    {
     "data": {
      "image/png": "[encoded data removed]",
      "text/plain": [
       "<Figure size 648x216 with 2 Axes>"
      ]
     },
     "metadata": {
      "needs_background": "light"
     },
     "output_type": "display_data"
    }
   ],
   "source": [
    "# Wir definieren zunächst die Anzahl an Punkten auf dem Intervall, die wir für die Darstellung wählen.\n",
    "# 1000 Punkte werden hier als ausreichend fein betrachtet.\n",
    "# Beachten Sie, dass dies nicht die räumliche Diskretisierung für die Integration betrifft!\n",
    "n_fine = 1000\n",
    "fx = np.linspace(fa, fb, n_fine)\n",
    "f_fine = f(fx)\n",
    "\n",
    "gx = np.linspace(ga, gb, n_fine)\n",
    "g_fine = g(gx)\n",
    "\n",
    "fig, ax = plt.subplots(1, 2, figsize=(9, 3))\n",
    "ax[0].plot(fx, f_fine)\n",
    "ax[0].set_xlabel(\"x\")\n",
    "ax[0].set_ylabel(\"f(x)\")\n",
    "ax[1].plot(gx, g_fine)\n",
    "ax[1].set_xlabel(\"x\")\n",
    "ax[1].set_ylabel(\"g(x)\")\n",
    "plt.show()"
   ]
  },
  {
   "cell_type": "markdown",
   "id": "a3e663b6",
   "metadata": {},
   "source": [
    "### Rechteckregel\n",
    "\n",
    "Die einfachste Art besteht nun darin, die Funktion exakt an nur einem Raumpunkt pro Teilinterval zu evaluieren und die Fläche unter dem Teilinterval als ein Rechteck anzunähern.\n",
    "\n",
    "![Rechteckregel](Rechteckregel.png \"Diskretisierung des Integrals mit Rechtecken\")\n",
    "\n",
    "Beachten Sie hier bitte, dass die Stützstelle in der Mitte des Intervals liegen soll, um das Integral möglichst effizient zu evaluieren. Das können wir uns im Folgenden konkret anschauen. \n",
    "\n",
    "Das gesamte Integral ergibt sich dann näherungsweise als\n",
    "$$\n",
    "I\\approx=\\sum_{i=0}^{N-1}\\int_{x_i}^{x_{i+1}} f_{i+\\frac{1}{2}}\\mathrm{d}x=\\sum_{i=0}^{N-1}hf_{i+\\frac{1}{2}}=\\frac{b-a}{N}\\sum_{i=0}^{N-1}f_{i+\\frac{1}{2}}\n",
    "$$"
   ]
  },
  {
   "cell_type": "markdown",
   "id": "1d0c779c",
   "metadata": {},
   "source": [
    "Im Folgenden evaluieren wir nun die Rechteckregel für unsere beiden Funktionen.\n",
    "Wir führen zunächst eine Variable `offset` ein, mit der wir die Stützstelle in jedem Teilintervall verschieben. In der Mitte des Intervalls evaluieren wir die Funktion um $\\frac{h}{2}$ verschoben.\n",
    "Dann erstellen wir uns eine Liste der Stützstellen und werden die Rechteckregel an diesen aus."
   ]
  },
  {
   "cell_type": "markdown",
   "id": "a775fd5d",
   "metadata": {},
   "source": [
    "#### $f(x)$"
   ]
  },
  {
   "cell_type": "code",
   "execution_count": 33,
   "id": "5ed582fb",
   "metadata": {},
   "outputs": [
    {
     "name": "stdout",
     "output_type": "stream",
     "text": [
      "Das Ergebnis unserer approximativen Berechnung beträgt 2.0, das exakte Ergebnis ist 2.\n"
     ]
    },
    {
     "data": {
      "image/png": "[encoded data removed]",
      "text/plain": [
       "<Figure size 288x216 with 1 Axes>"
      ]
     },
     "metadata": {
      "needs_background": "light"
     },
     "output_type": "display_data"
    }
   ],
   "source": [
    "offset = fh / 2 \n",
    "\n",
    "x = np.arange(fa, fb, fh) + offset  # Stützstellen\n",
    "approx = fh * np.sum(f(x))  # Rechteckregel\n",
    "\n",
    "print(f\"Das Ergebnis unserer approximativen Berechnung beträgt {approx}, das exakte Ergebnis ist 2.\")\n",
    "\n",
    "fig, ax = plt.subplots(1, 1, figsize=(4, 3))\n",
    "ax.plot(fx, f_fine, color=\"black\")  # wir plotten die Funktion wie oben\n",
    "bars = ax.bar(x, f(x), width=fh)  # und die Rechtecke\n",
    "for bar in bars[::2]:\n",
    "    bar.set_alpha(0.5)\n",
    "ax.set_xlim([fa, fb])\n",
    "ax.set_ylim([0, None])\n",
    "plt.show()"
   ]
  },
  {
   "cell_type": "markdown",
   "id": "f281618f",
   "metadata": {},
   "source": [
    "#### $g(x)$"
   ]
  },
  {
   "cell_type": "markdown",
   "id": "6443c893",
   "metadata": {},
   "source": [
    "Die Berechnung des Integrals für $g(x)$ erfolgt analog wie oben."
   ]
  },
  {
   "cell_type": "code",
   "execution_count": 34,
   "id": "6872da14",
   "metadata": {},
   "outputs": [
    {
     "name": "stdout",
     "output_type": "stream",
     "text": [
      "Das Ergebnis unserer approximativen Berechnung beträgt 0.25037149932651553, wohingegen das exakte Ergebnis 0 betragen sollte.\n"
     ]
    },
    {
     "data": {
      "image/png": "[encoded data removed]",
      "text/plain": [
       "<Figure size 288x216 with 1 Axes>"
      ]
     },
     "metadata": {
      "needs_background": "light"
     },
     "output_type": "display_data"
    }
   ],
   "source": [
    "offset = gh / 2   \n",
    "\n",
    "x = np.arange(ga, gb, gh) + offset\n",
    "approx = gh * np.sum(g(x))\n",
    "\n",
    "print(f\"Das Ergebnis unserer approximativen Berechnung beträgt {approx}, wohingegen das exakte Ergebnis 0 betragen sollte.\")\n",
    "\n",
    "fig, ax = plt.subplots(1, 1, figsize=(4, 3))\n",
    "ax.plot(gx, g_fine, color=\"black\")\n",
    "bars = ax.bar(x, g(x), width=gh)\n",
    "for bar in bars[::2]:\n",
    "    bar.set_alpha(0.5)\n",
    "ax.set_xlim([ga, gb])\n",
    "plt.show()"
   ]
  },
  {
   "cell_type": "markdown",
   "id": "61d801fe",
   "metadata": {},
   "source": [
    "Es gibt auch andere Arten der Diskretisierung. Sie können, z.B., die Fläche in jedem Teilinterval mit einem Trapez annähern. Oder Sie können auch Polynome höheren Grades und nicht nur Gerade verwenden, um die Fläche zu berechnen. Das erfolgt im Rahmen der Simpsonregel. Glücklicherweise müssen Sie sich um diese Details nicht selbst kümmern, sondenr können vordefinierte Routinen verwenden. "
   ]
  },
  {
   "cell_type": "code",
   "execution_count": 35,
   "id": "62d85faf",
   "metadata": {},
   "outputs": [
    {
     "name": "stdout",
     "output_type": "stream",
     "text": [
      "Das Ergebnis unserer numerischen Berechnung mit der vorhandenen Funktion simpson beträgt -0.0005916662694904901.\n"
     ]
    }
   ],
   "source": [
    "from scipy.integrate import simpson\n",
    "\n",
    "x = np.linspace(ga, gb, gN)\n",
    "approx = simpson(g(x), x)\n",
    "\n",
    "print(f\"Das Ergebnis unserer numerischen Berechnung mit der vorhandenen Funktion simpson beträgt {approx}.\")"
   ]
  },
  {
   "cell_type": "markdown",
   "id": "5bdfb711",
   "metadata": {},
   "source": [
    "Eine sehr häufig verwendete Routine ist die Gauss-Quadratur. Ausgangspunkt der Gausschen-Quadratur ist die Idee, eine Funktion $f(x)$ nicht näherungsweise an einer endlichen Anzahl von Stützstellen zu evaluieren, sondern die Funktion im gesamten zu integrierenden Interval als eine Summe von $n$ Basisfunktionen $P_i(x)$ zu entwickeln, in denen jede einzelne Basisfunktion mit einer bestimmten Amplitude $a_i$ beiträgt! Numerisch brauchen Sie sich über diese Details keine Gedanken machen. Sie können auch hier wieder vorhandene Funktionen nutzen, um das Verfahren effizient zu nutzen."
   ]
  },
  {
   "cell_type": "code",
   "execution_count": 36,
   "id": "1cb9d668",
   "metadata": {},
   "outputs": [
    {
     "name": "stdout",
     "output_type": "stream",
     "text": [
      "Das Ergebnis unserer numerischen Berechnung mit der vorhandenen Funktion quad beträgt 1.7710371678247452e-15.\n"
     ]
    }
   ],
   "source": [
    "from scipy.integrate import quad  # siehe https://docs.scipy.org/doc/scipy/reference/generated/scipy.integrate.quad.html#scipy.integrate.quad\n",
    "\n",
    "val, err = quad(g, ga, gb)\n",
    "\n",
    "print(f\"Das Ergebnis unserer numerischen Berechnung mit der vorhandenen Funktion quad beträgt {val}.\")"
   ]
  }
 ],
 "metadata": {
  "kernelspec": {
   "display_name": "Python 3 (ipykernel)",
   "language": "python",
   "name": "python3"
  },
  "language_info": {
   "codemirror_mode": {
    "name": "ipython",
    "version": 3
   },
   "file_extension": ".py",
   "mimetype": "text/x-python",
   "name": "python",
   "nbconvert_exporter": "python",
   "pygments_lexer": "ipython3",
   "version": "3.9.12"
  },
  "vscode": {
   "interpreter": {
    "hash": "cc412c9f3fa4474d685b397f63f04324611d10c22d923c0d092e91ec5ad6d5ee"
   }
  }
 },
 "nbformat": 4,
 "nbformat_minor": 5
}
